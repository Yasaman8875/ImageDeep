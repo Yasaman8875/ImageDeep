{
  "nbformat": 4,
  "nbformat_minor": 0,
  "metadata": {
    "colab": {
      "provenance": [],
      "authorship_tag": "ABX9TyNHTrKqslY60ZOx+7pHweva",
      "include_colab_link": true
    },
    "kernelspec": {
      "name": "python3",
      "display_name": "Python 3"
    },
    "language_info": {
      "name": "python"
    }
  },
  "cells": [
    {
      "cell_type": "markdown",
      "metadata": {
        "id": "view-in-github",
        "colab_type": "text"
      },
      "source": [
        "<a href=\"https://colab.research.google.com/github/Yasaman8875/ImageDeep/blob/main/Untitled4.ipynb\" target=\"_parent\"><img src=\"https://colab.research.google.com/assets/colab-badge.svg\" alt=\"Open In Colab\"/></a>"
      ]
    },
    {
      "cell_type": "code",
      "execution_count": 1,
      "metadata": {
        "colab": {
          "base_uri": "https://localhost:8080/"
        },
        "id": "O5wunxO79R96",
        "outputId": "e1f554e5-121d-4527-b4a0-c671d120facd"
      },
      "outputs": [
        {
          "output_type": "stream",
          "name": "stdout",
          "text": [
            "2.0.1+cu118\n"
          ]
        }
      ],
      "source": [
        "import torch\n",
        "import torch.nn as nn\n",
        "import torch.nn.functional as F\n",
        "import torchvision\n",
        "import torchvision.transforms as transforms\n",
        "print(torch.__version__)\n"
      ]
    },
    {
      "cell_type": "markdown",
      "source": [
        "import the data"
      ],
      "metadata": {
        "id": "WKsPaDFf-R7E"
      }
    },
    {
      "cell_type": "code",
      "source": [
        "BACH_SIZE =32\n",
        "transform = transforms.Compose (\n",
        "    [transforms.ToTensor ()])\n",
        "\n",
        "trainset = torchvision.datasets.MNIST(root= \"/data\", train = True, download= True, transform=transform )\n",
        "trainloader = torch.utils.data.DataLoader(trainset , batch_size=BACH_SIZE,shuffle=False,num_workers=2)\n",
        "testset = torchvision.datasets.MNIST(root='/data', train=False, download=True, transform=transform )\n",
        "testloader = torch.utils.data.DataLoader(testset , batch_size=BACH_SIZE,shuffle=False,num_workers=2)"
      ],
      "metadata": {
        "id": "qes4iWpX-VLs"
      },
      "execution_count": 6,
      "outputs": []
    },
    {
      "cell_type": "code",
      "source": [
        "import matplotlib.pyplot as plt\n",
        "import numpy as np\n",
        "\n",
        "def imshow(img):\n",
        " npimg=img.numpy()\n",
        " plt.imshow(np.transpose(npimg, (1,2,0)))\n",
        "\n",
        " datainter=inter(trainloader)\n",
        " image,labels=datainter.next()"
      ],
      "metadata": {
        "id": "OzgX9dsuGN2b"
      },
      "execution_count": 8,
      "outputs": []
    }
  ]
}