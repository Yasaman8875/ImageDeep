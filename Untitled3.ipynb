{
  "nbformat": 4,
  "nbformat_minor": 0,
  "metadata": {
    "colab": {
      "provenance": [],
      "authorship_tag": "ABX9TyNctPbifxuVdQGGXxLxCK0s",
      "include_colab_link": true
    },
    "kernelspec": {
      "name": "python3",
      "display_name": "Python 3"
    },
    "language_info": {
      "name": "python"
    }
  },
  "cells": [
    {
      "cell_type": "markdown",
      "metadata": {
        "id": "view-in-github",
        "colab_type": "text"
      },
      "source": [
        "<a href=\"https://colab.research.google.com/github/Yasaman8875/ImageDeep/blob/main/Untitled3.ipynb\" target=\"_parent\"><img src=\"https://colab.research.google.com/assets/colab-badge.svg\" alt=\"Open In Colab\"/></a>"
      ]
    },
    {
      "cell_type": "code",
      "execution_count": null,
      "metadata": {
        "id": "awRc2OEIZSKY"
      },
      "outputs": [],
      "source": [
        "import cv2\n",
        "from urllib.request import urlretrieve\n",
        "from google.colab.patches import cv2_imshow\n",
        "\n",
        "# save the foreground and background to our local storage\n",
        "urlretrieve('https://pbs.twimg.com/profile_images/691700243809718272/z7XZUARB_400x400.jpg', '/content/profile.jpg')\n",
        "urlretrieve('https://images.unsplash.com/photo-1475139441338-693e7dbe20b6?auto=format&fit=crop&w=640&q=427', '/content/background.jpg')\n",
        "\n",
        "# display the images in the notebook\n",
        "cv2_imshow(cv2.imread('/content/1.jpg'))\n",
        "cv2_imshow(cv2.imread('/content/background.jpg'))"
      ]
    }
  ]
}