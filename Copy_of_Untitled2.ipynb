{
  "nbformat": 4,
  "nbformat_minor": 0,
  "metadata": {
    "colab": {
      "provenance": [],
      "authorship_tag": "ABX9TyNWg934Zo3ZVkxIOmnWi7nm",
      "include_colab_link": true
    },
    "kernelspec": {
      "name": "python3",
      "display_name": "Python 3"
    },
    "language_info": {
      "name": "python"
    }
  },
  "cells": [
    {
      "cell_type": "markdown",
      "metadata": {
        "id": "view-in-github",
        "colab_type": "text"
      },
      "source": [
        "<a href=\"https://colab.research.google.com/github/Yasaman8875/ImageDeep/blob/main/Copy_of_Untitled2.ipynb\" target=\"_parent\"><img src=\"https://colab.research.google.com/assets/colab-badge.svg\" alt=\"Open In Colab\"/></a>"
      ]
    },
    {
      "cell_type": "code",
      "execution_count": null,
      "metadata": {
        "colab": {
          "base_uri": "https://localhost:8080/"
        },
        "id": "Kk2Kjrpxg9nt",
        "outputId": "71e825d0-e371-4a85-feeb-2b5a8033f76e"
      },
      "outputs": [
        {
          "output_type": "execute_result",
          "data": {
            "text/plain": [
              "array([[0., 0., 0., ..., 0., 0., 0.],\n",
              "       [0., 0., 0., ..., 0., 0., 0.],\n",
              "       [0., 0., 0., ..., 0., 0., 0.],\n",
              "       ...,\n",
              "       [0., 0., 0., ..., 0., 0., 0.],\n",
              "       [0., 0., 0., ..., 0., 0., 0.],\n",
              "       [0., 0., 0., ..., 0., 0., 0.]])"
            ]
          },
          "metadata": {},
          "execution_count": 31
        }
      ],
      "source": [
        "from google.colab.patches import cv2_imshow\n",
        "import cv2\n",
        "import numpy as np\n",
        "\n",
        "def load_img():\n",
        "  blank_img=np.zeros((300,400))\n",
        "  font =cv2.FONT_HERSHEY_SCRIPT_SIMPLEX\n",
        "  cv2.putText(blank_img,text='LBB',org=(100,170),fontFace=font,fontScale=3,color=(255,255,255),thickness=10,lineType=cv2.LINE_AA)\n",
        "  return blank_img\n",
        "\n",
        "load_img()"
      ]
    },
    {
      "cell_type": "code",
      "source": [
        "image=load_img()\n",
        "cv2_imshow(image)"
      ],
      "metadata": {
        "colab": {
          "base_uri": "https://localhost:8080/",
          "height": 317
        },
        "id": "0yg7PZIAY8D6",
        "outputId": "73c310c4-be91-4942-fc52-73592221202f"
      },
      "execution_count": null,
      "outputs": [
        {
          "output_type": "display_data",
          "data": {
            "text/plain": [
              "<PIL.Image.Image image mode=L size=400x300>"
            ],
            "image/png": "[encoded data removed]"
          },
          "metadata": {}
        }
      ]
    },
    {
      "cell_type": "code",
      "source": [
        "\n",
        "\n",
        "kernel = np.ones((5,5),np.uint8)\n",
        "#erosion\n",
        "erosion1 = cv2.erode(orig,kernel,iterations=1)\n",
        "print(\"Erod 1\")\n",
        "cv2_imshow(erosion1)"
      ],
      "metadata": {
        "colab": {
          "base_uri": "https://localhost:8080/",
          "height": 334
        },
        "id": "1KE5IHS7bm5b",
        "outputId": "9b781836-b8b5-488d-8268-9832d1def0a5"
      },
      "execution_count": null,
      "outputs": [
        {
          "output_type": "stream",
          "name": "stdout",
          "text": [
            "Erod 1\n"
          ]
        },
        {
          "output_type": "display_data",
          "data": {
            "text/plain": [
              "<PIL.Image.Image image mode=L size=400x300>"
            ],
            "image/png": "[encoded data removed]"
          },
          "metadata": {}
        }
      ]
    },
    {
      "cell_type": "code",
      "source": [
        "kernel = np.ones((5,5),np.uint8)\n",
        "#erosion\n",
        "dilation = cv2.dilate(orig,kernel,iterations = 1 )\n",
        "print(\"Origin                                                                    Dilation  \" )\n",
        "#cv2_imshow(erosion1)\n",
        "final=cv2.hconcat((orig,dilation))\n",
        "cv2_imshow(final)"
      ],
      "metadata": {
        "colab": {
          "base_uri": "https://localhost:8080/",
          "height": 334
        },
        "id": "eXKGrPG9etCi",
        "outputId": "d1fe69a0-4961-4aea-fad2-731066ace2c6"
      },
      "execution_count": null,
      "outputs": [
        {
          "output_type": "stream",
          "name": "stdout",
          "text": [
            "Origin                                                                    Dilation  \n"
          ]
        },
        {
          "output_type": "display_data",
          "data": {
            "text/plain": [
              "<PIL.Image.Image image mode=L size=800x300>"
            ],
            "image/png": "[encoded data removed]"
          },
          "metadata": {}
        }
      ]
    },
    {
      "cell_type": "code",
      "source": [
        "from cv2.gapi import morphologyEx\n",
        "white_noise=np.random.randint(low=0,high=2, size=(300,400))\n",
        "white_noise=white_noise*255\n",
        "noise_img=white_noise + orig\n",
        "cv2_imshow(noise_img)\n",
        "opening=cv2.morphologyEx(noise_img,cv2.MORPH_OPEN,kernel)\n",
        "cv2_imshow(opening)"
      ],
      "metadata": {
        "colab": {
          "base_uri": "https://localhost:8080/",
          "height": 617
        },
        "id": "HSHIASwzfnlQ",
        "outputId": "1d1d4433-ca6c-465b-c2d6-d47afac54108"
      },
      "execution_count": null,
      "outputs": [
        {
          "output_type": "display_data",
          "data": {
            "text/plain": [
              "<PIL.Image.Image image mode=L size=400x300>"
            ],
            "image/png": "[encoded data removed]"
          },
          "metadata": {}
        },
        {
          "output_type": "display_data",
          "data": {
            "text/plain": [
              "<PIL.Image.Image image mode=L size=400x300>"
            ],
            "image/png": "[encoded data removed]"
          },
          "metadata": {}
        }
      ]
    },
    {
      "cell_type": "code",
      "source": [
        "\n",
        "black_noise=np.random.randint(low=0,high=2, size=(300,400))\n",
        "black_noise=white_noise*-255\n",
        "noise_img=black_noise + orig\n",
        "cv2_imshow(noise_img)\n"
      ],
      "metadata": {
        "colab": {
          "base_uri": "https://localhost:8080/",
          "height": 317
        },
        "id": "c2q5cpSfiO1G",
        "outputId": "3084758c-9798-43fa-90ec-1b3b9c4adc77"
      },
      "execution_count": null,
      "outputs": [
        {
          "output_type": "display_data",
          "data": {
            "text/plain": [
              "<PIL.Image.Image image mode=L size=400x300>"
            ],
            "image/png": "[encoded data removed]"
          },
          "metadata": {}
        }
      ]
    },
    {
      "cell_type": "code",
      "source": [
        "closing=cv2.morphologyEx(noise_img,cv2.MORPH_CLOSE,kernel)\n",
        "cv2_imshow(closing)"
      ],
      "metadata": {
        "colab": {
          "base_uri": "https://localhost:8080/",
          "height": 317
        },
        "id": "cVQvPpIGjR6k",
        "outputId": "deb50397-de32-4845-f871-e62ae08bd9c3"
      },
      "execution_count": null,
      "outputs": [
        {
          "output_type": "display_data",
          "data": {
            "text/plain": [
              "<PIL.Image.Image image mode=L size=400x300>"
            ],
            "image/png": "[encoded data removed]"
          },
          "metadata": {}
        }
      ]
    },
    {
      "cell_type": "code",
      "source": [
        "gradiant= cv2.morphologyEx(orig,cv2.MORPH_GRADIENT,kernel=(2,2))\n",
        "#cv2_imshow(gradiant)\n",
        "final=cv2.hconcat((orig,gradiant))\n",
        "cv2_imshow(final)"
      ],
      "metadata": {
        "colab": {
          "base_uri": "https://localhost:8080/",
          "height": 317
        },
        "id": "ZjGmjFMglGTw",
        "outputId": "a42f4c07-562b-4011-d77a-2171e312ebc0"
      },
      "execution_count": null,
      "outputs": [
        {
          "output_type": "display_data",
          "data": {
            "text/plain": [
              "<PIL.Image.Image image mode=L size=800x300>"
            ],
            "image/png": "[encoded data removed]"
          },
          "metadata": {}
        }
      ]
    }
  ]
}